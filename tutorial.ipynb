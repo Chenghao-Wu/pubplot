{
 "cells": [
  {
   "cell_type": "markdown",
   "metadata": {},
   "source": [
    "# Getting Started with pubplot\n",
    "\n",
    "This tutorial demonstrates how to use pubplot to create publication-quality figures. We'll cover basic plotting, customizing line styles, and creating multi-panel figures."
   ]
  },
  {
   "cell_type": "code",
   "execution_count": null,
   "metadata": {},
   "outputs": [
    {
     "ename": "",
     "evalue": "",
     "output_type": "error",
     "traceback": [
      "\u001b[1;31mThe kernel failed to start as 'cursor_in_leading_ws' could not be imported from '/home/ubuntu/miniconda3/envs/polymer/lib/python3.8/site-packages/IPython/terminal/shortcuts/__init__.py'.\n",
      "\u001b[1;31mClick <a href='https://aka.ms/kernelFailuresModuleImportErrFromFile'>here</a> for more info."
     ]
    }
   ],
   "source": [
    "import numpy as np\n",
    "import matplotlib.pyplot as plt\n",
    "import pubplot.aps_parameter\n",
    "from pubplot.linestyle import linestyle_generator"
   ]
  },
  {
   "cell_type": "markdown",
   "metadata": {},
   "source": [
    "## 1. Basic Line Plot\n",
    "\n",
    "Let's start with a simple line plot showing different mathematical functions."
   ]
  },
  {
   "cell_type": "code",
   "execution_count": null,
   "metadata": {},
   "outputs": [],
   "source": [
    "# Generate data\n",
    "x = np.linspace(0, 5, 100)\n",
    "\n",
    "# Create figure\n",
    "fig, ax = plt.subplots(1)\n",
    "linestyles = linestyle_generator()\n",
    "\n",
    "# Plot different functions\n",
    "ax.plot(x, np.sin(x), label='sin(x)', **next(linestyles))\n",
    "ax.plot(x, np.cos(x), label='cos(x)', **next(linestyles))\n",
    "\n",
    "ax.set_xlabel('$x$')\n",
    "ax.set_ylabel('$f(x)$')\n",
    "ax.legend()\n",
    "fig.tight_layout()\n",
    "plt.show()"
   ]
  },
  {
   "cell_type": "markdown",
   "metadata": {},
   "source": [
    "## 2. Customizing Line Styles\n",
    "\n",
    "You can customize the line styles by specifying colors, markers, and line styles."
   ]
  },
  {
   "cell_type": "code",
   "execution_count": null,
   "metadata": {},
   "outputs": [],
   "source": [
    "# Custom line styles\n",
    "custom_linestyles = linestyle_generator(\n",
    "    colors=['red', 'blue', 'green'],\n",
    "    markers=['o', 's', '^'],\n",
    "    lines=['-', '--', ':'])\n",
    "\n",
    "fig, ax = plt.subplots(1)\n",
    "\n",
    "x = np.linspace(0, 2, 20)\n",
    "ax.plot(x, x**2, label='$x^2$', **next(custom_linestyles))\n",
    "ax.plot(x, x**3, label='$x^3$', **next(custom_linestyles))\n",
    "ax.plot(x, np.exp(x), label='$e^x$', **next(custom_linestyles))\n",
    "\n",
    "ax.set_xlabel('$x$')\n",
    "ax.set_ylabel('$f(x)$')\n",
    "ax.legend()\n",
    "fig.tight_layout()\n",
    "plt.show()"
   ]
  },
  {
   "cell_type": "markdown",
   "metadata": {},
   "source": [
    "## 3. Multi-Panel Figure\n",
    "\n",
    "Create a figure with multiple subplots using pubplot styling."
   ]
  },
  {
   "cell_type": "code",
   "execution_count": null,
   "metadata": {},
   "outputs": [],
   "source": [
    "# Generate data\n",
    "t = np.linspace(0, 10, 100)\n",
    "noise = np.random.normal(0, 0.1, len(t))\n",
    "\n",
    "# Create figure with two subplots\n",
    "fig, (ax1, ax2) = plt.subplots(1, 2, figsize=(10, 4))\n",
    "linestyles = linestyle_generator()\n",
    "\n",
    "# First subplot: Damped oscillation\n",
    "y1 = np.exp(-0.2*t) * np.sin(2*t)\n",
    "ax1.plot(t, y1, label='Damped', **next(linestyles))\n",
    "ax1.plot(t, y1 + noise, label='With noise', **next(linestyles))\n",
    "ax1.set_xlabel('Time')\n",
    "ax1.set_ylabel('Amplitude')\n",
    "ax1.legend()\n",
    "\n",
    "# Second subplot: Different frequencies\n",
    "ax2.plot(t, np.sin(t), label='$f_1$', **next(linestyles))\n",
    "ax2.plot(t, np.sin(2*t), label='$f_2$', **next(linestyles))\n",
    "ax2.plot(t, np.sin(3*t), label='$f_3$', **next(linestyles))\n",
    "ax2.set_xlabel('Time')\n",
    "ax2.set_ylabel('Amplitude')\n",
    "ax2.legend()\n",
    "\n",
    "fig.tight_layout()\n",
    "plt.show()"
   ]
  },
  {
   "cell_type": "markdown",
   "metadata": {},
   "source": [
    "## 4. Scatter Plot with Error Bars\n",
    "\n",
    "Create a scatter plot with error bars using pubplot styling."
   ]
  },
  {
   "cell_type": "code",
   "execution_count": null,
   "metadata": {},
   "outputs": [],
   "source": [
    "# Generate data with errors\n",
    "x = np.linspace(0, 10, 15)\n",
    "y = 3 * np.exp(-0.3 * x) + 0.5\n",
    "yerr = 0.2 * np.random.random(len(x))\n",
    "\n",
    "fig, ax = plt.subplots(1)\n",
    "linestyles = linestyle_generator()\n",
    "\n",
    "# Plot data points with error bars\n",
    "ax.errorbar(x, y, yerr=yerr, label='Experimental', \n",
    "           capsize=3, **next(linestyles))\n",
    "\n",
    "# Plot theoretical curve\n",
    "x_fine = np.linspace(0, 10, 100)\n",
    "y_theory = 3 * np.exp(-0.3 * x_fine) + 0.5\n",
    "ax.plot(x_fine, y_theory, label='Theory', **next(linestyles))\n",
    "\n",
    "ax.set_xlabel('Time (s)')\n",
    "ax.set_ylabel('Signal (a.u.)')\n",
    "ax.legend()\n",
    "fig.tight_layout()\n",
    "plt.show()"
   ]
  },
  {
   "cell_type": "markdown",
   "metadata": {},
   "source": [
    "## 5. Saving Publication-Ready Figures\n",
    "\n",
    "Demonstrate how to save figures in different formats suitable for publication."
   ]
  },
  {
   "cell_type": "code",
   "execution_count": null,
   "metadata": {},
   "outputs": [],
   "source": [
    "def create_sample_plot():\n",
    "    fig, ax = plt.subplots(1)\n",
    "    linestyles = linestyle_generator()\n",
    "    \n",
    "    x = np.linspace(0, 2*np.pi, 100)\n",
    "    ax.plot(x, np.sin(x), label='sin(x)', **next(linestyles))\n",
    "    ax.plot(x, np.cos(x), label='cos(x)', **next(linestyles))\n",
    "    \n",
    "    ax.set_xlabel('$x$')\n",
    "    ax.set_ylabel('$f(x)$')\n",
    "    ax.legend()\n",
    "    fig.tight_layout()\n",
    "    return fig\n",
    "\n",
    "# Create and save figure in different formats\n",
    "fig = create_sample_plot()\n",
    "\n",
    "# Save as PDF (vector format, good for publications)\n",
    "fig.savefig('example_plot.pdf', dpi=300, bbox_inches='tight')\n",
    "\n",
    "# Save as PNG (raster format, good for web)\n",
    "fig.savefig('example_plot.png', dpi=300, bbox_inches='tight')\n",
    "\n",
    "plt.close()"
   ]
  }
 ],
 "metadata": {
  "kernelspec": {
   "display_name": "Python 3",
   "language": "python",
   "name": "python3"
  },
  "language_info": {
   "codemirror_mode": {
    "name": "ipython",
    "version": 3
   },
   "file_extension": ".py",
   "mimetype": "text/x-python",
   "name": "python",
   "nbconvert_exporter": "python",
   "pygments_lexer": "ipython3",
   "version": "3.8.17"
  }
 },
 "nbformat": 4,
 "nbformat_minor": 4
}
